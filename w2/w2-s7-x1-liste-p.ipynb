{
 "cells": [
  {
   "cell_type": "markdown",
   "metadata": {},
   "source": [
    "<div class=\"licence\">\n",
    "<span>Licence CC BY-NC-ND</span>\n",
    "<span>Thierry Parmentelat &amp; Arnaud Legout</span>\n",
    "<span><img src=\"media/both-logos-small-alpha.png\" /></span>\n",
    "</div>"
   ]
  },
  {
   "cell_type": "markdown",
   "metadata": {},
   "source": [
    "# Compréhensions (1)"
   ]
  },
  {
   "cell_type": "markdown",
   "metadata": {},
   "source": [
    "## Exercice - niveau basique"
   ]
  },
  {
   "cell_type": "markdown",
   "metadata": {},
   "source": [
    "### Liste des valeurs d'une fonction"
   ]
  },
  {
   "cell_type": "code",
   "execution_count": null,
   "metadata": {},
   "outputs": [],
   "source": [
    "# Pour charger l'exercice\n",
    "from corrections.exo_liste_p import exo_liste_P"
   ]
  },
  {
   "cell_type": "markdown",
   "metadata": {},
   "source": [
    "On se donne une fonction polynomiale :\n",
    "\n",
    "$P(x) = 2x^2 - 3x - 2$"
   ]
  },
  {
   "cell_type": "markdown",
   "metadata": {},
   "source": [
    "On vous demande d'écrire une fonction `liste_P` qui prend en argument une liste de nombres réels $x$ et qui retourne la liste des valeurs $P(x)$."
   ]
  },
  {
   "cell_type": "code",
   "execution_count": null,
   "metadata": {},
   "outputs": [],
   "source": [
    "# voici un exemple de ce qui est attendu\n",
    "exo_liste_P.example()"
   ]
  },
  {
   "cell_type": "markdown",
   "metadata": {},
   "source": [
    "Écrivez votre code dans la cellule suivante (*On vous suggère d'écrire une fonction `P` qui implémente le polynôme mais ça n'est pas strictement indispensable, seul le résultat de `liste_P` compte*) :"
   ]
  },
  {
   "cell_type": "code",
   "execution_count": null,
   "metadata": {
    "latex:hidden-code-instead": "liste_P = exo_liste_P.solution",
    "latex:hidden-silent": true
   },
   "outputs": [],
   "source": [
    "def P(x):\n",
    "    \"\"\"\n",
    "    Fonction polynomiale : 𝑃(𝑥) = 2𝑥**2 − 3𝑥 − 2\n",
    "    :param x: argument\n",
    "    :return: valeur de 𝑃(𝑥)\n",
    "    \"\"\"\n",
    "    return(2 * x**2 - 3 * x - 2)\n",
    "\n",
    "\n",
    "def liste_P(liste_x):\n",
    "    return [P(x) for x in liste_x]"
   ]
  },
  {
   "cell_type": "markdown",
   "metadata": {},
   "source": [
    "Et vous pouvez le vérifier en évaluant cette cellule :"
   ]
  },
  {
   "cell_type": "code",
   "execution_count": null,
   "metadata": {
    "latex:skip-eval": true
   },
   "outputs": [],
   "source": [
    "# pour vérifier votre code\n",
    "exo_liste_P.correction(liste_P)"
   ]
  },
  {
   "cell_type": "markdown",
   "metadata": {},
   "source": [
    "******"
   ]
  },
  {
   "cell_type": "markdown",
   "metadata": {},
   "source": [
    "## Récréation"
   ]
  },
  {
   "cell_type": "markdown",
   "metadata": {},
   "source": [
    "Si vous avez correctement implémenté la fonction `liste_P` telle que demandé dans le premier exercice, vous pouvez visualiser le polynôme `P` en utilisant `matplotlib` avec le code suivant :"
   ]
  },
  {
   "cell_type": "code",
   "execution_count": null,
   "metadata": {},
   "outputs": [],
   "source": [
    "# on importe les bibliothèques\n",
    "import numpy as np\n",
    "import matplotlib.pyplot as plt"
   ]
  },
  {
   "cell_type": "code",
   "execution_count": null,
   "metadata": {},
   "outputs": [],
   "source": [
    "# un échantillon des X entre -10 et 10\n",
    "X = np.linspace(-10, 10)\n",
    "\n",
    "# et les Y correspondants\n",
    "Y = liste_P(X)"
   ]
  },
  {
   "cell_type": "code",
   "execution_count": null,
   "metadata": {},
   "outputs": [],
   "source": [
    "# on n'a plus qu'à dessiner\n",
    "plt.plot(X, Y)\n",
    "plt.show()"
   ]
  },
  {
   "cell_type": "code",
   "execution_count": null,
   "metadata": {},
   "outputs": [],
   "source": []
  }
 ],
 "metadata": {
  "jupytext": {
   "cell_metadata_filter": "all",
   "notebook_metadata_filter": "all,-language_info,-toc,-jupytext.text_representation.jupytext_version,-jupytext.text_representation.format_version",
   "text_representation": {
    "extension": ".md",
    "format_name": "myst"
   }
  },
  "kernelspec": {
   "display_name": "Python 3",
   "language": "python",
   "name": "python3"
  }
 },
 "nbformat": 4,
 "nbformat_minor": 4
}
