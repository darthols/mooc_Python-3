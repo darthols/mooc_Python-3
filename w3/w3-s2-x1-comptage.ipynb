{
 "cells": [
  {
   "cell_type": "markdown",
   "metadata": {},
   "source": [
    "<div class=\"licence\">\n",
    "<span>Licence CC BY-NC-ND</span>\n",
    "<span>Thierry Parmentelat &amp; Arnaud Legout</span>\n",
    "<span><img src=\"media/both-logos-small-alpha.png\" /></span>\n",
    "</div>"
   ]
  },
  {
   "cell_type": "markdown",
   "metadata": {},
   "source": [
    "# Fichiers"
   ]
  },
  {
   "cell_type": "markdown",
   "metadata": {},
   "source": [
    "## Exercice - niveau basique"
   ]
  },
  {
   "cell_type": "markdown",
   "metadata": {},
   "source": [
    "### Calcul du nombre de lignes, de mots et de caractères"
   ]
  },
  {
   "cell_type": "code",
   "execution_count": null,
   "metadata": {},
   "outputs": [],
   "source": [
    "# chargement de l'exercice\n",
    "from corrections.exo_comptage import exo_comptage"
   ]
  },
  {
   "cell_type": "markdown",
   "metadata": {},
   "source": [
    "On se propose d'écrire une *moulinette* qui annote un fichier avec des nombres de lignes, de mots et de caractères.\n",
    "\n",
    "Le but de l'exercice est d'écrire une fonction `comptage` :\n",
    "\n",
    " * qui prenne en argument un nom de fichier d'entrée (on suppose qu'il existe) et un nom de fichier de sortie (on suppose qu'on a le droit de l'écrire) ;\n",
    " * le fichier d'entrée est supposé encodé en UTF-8 ;\n",
    " * le fichier d'entrée est laissé intact ;\n",
    " * pour chaque ligne en entrée, le fichier de sortie comporte une ligne qui donne le numéro de ligne, le nombre de mots (**séparés par des espaces**), le nombre de caractères (y compris la fin de ligne), et la ligne d'origine."
   ]
  },
  {
   "cell_type": "code",
   "execution_count": null,
   "metadata": {},
   "outputs": [],
   "source": [
    "# un exemple de ce qui est attendu\n",
    "exo_comptage.example()"
   ]
  },
  {
   "cell_type": "code",
   "execution_count": null,
   "metadata": {},
   "outputs": [],
   "source": [
    "# votre code\n",
    "def comptage(in_filename, out_filename):\n",
    "   \"votre code\""
   ]
  },
  {
   "cell_type": "markdown",
   "metadata": {},
   "source": [
    "**N'oubliez pas de vérifier** que vous ajoutez bien les **fins de ligne**, car la vérification automatique est pointilleuse (elle utilise l'opérateur `==`), et rejettera votre code si vous ne produisez pas une sortie rigoureusement similaire à ce qui est attendu."
   ]
  },
  {
   "cell_type": "code",
   "execution_count": null,
   "metadata": {},
   "outputs": [],
   "source": [
    "# pour vérifier votre code\n",
    "# voyez aussi un peu plus bas, une cellule d'aide au debugging\n",
    "\n",
    "exo_comptage.correction(comptage)"
   ]
  },
  {
   "cell_type": "markdown",
   "metadata": {},
   "source": [
    "La méthode `debug` applique votre fonction au premier fichier d'entrée, et affiche le résultat comme dans l'exemple ci-dessus :"
   ]
  },
  {
   "cell_type": "code",
   "execution_count": null,
   "metadata": {},
   "outputs": [],
   "source": [
    "# debugging\n",
    "exo_comptage.debug(comptage)"
   ]
  },
  {
   "cell_type": "markdown",
   "metadata": {},
   "source": [
    "### Accès aux fichiers d'exemples"
   ]
  },
  {
   "cell_type": "markdown",
   "metadata": {},
   "source": [
    "Vous pouvez télécharger les fichiers d'exemples :\n",
    "\n",
    " * [Romeo and Juliet](data/romeo_and_juliet.txt)\n",
    " * [Lorem Ipsum](data/lorem_ipsum.txt)\n",
    " * [\"Une charogne\" en UTF-8](data/une_charogne_unicode.txt)\n",
    "\n",
    "***\n",
    "\n",
    "Pour les courageux, je vous donne également [\"Une charogne\" en ISO-8859-15](data/une_charogne_iso15.txt), qui contient le même texte que \"Une charogne\", mais encodé en Latin-9, connu aussi sous le nom ISO-8859-15.\n",
    "\n",
    "Ce dernier fichier n'est pas à prendre en compte dans la version basique de l'exercice, mais vous pourrez vous rendre compte par vous-mêmes, au cas où cela ne serait pas clair encore pour vous, qu'il n'est pas facile d'écrire une fonction `comptage` qui devine l'encodage, c'est-à-dire qui fonctionne correctement avec des entrées indifféremment en Unicode ou Latin, sans que cet encodage soit passé en paramètre à `comptage`."
   ]
  },
  {
   "cell_type": "markdown",
   "metadata": {},
   "source": [
    "C'est d'ailleurs le propos de [la bibliothèque `chardet`](https://pypi.python.org/pypi/chardet) qui s'efforce de déterminer l'encodage de fichiers d'entrée, sur la base de modèles statistiques."
   ]
  }
 ],
 "metadata": {
  "jupytext": {
   "cell_metadata_filter": "all",
   "notebook_metadata_filter": "all,-language_info,-toc,-jupytext.text_representation.jupytext_version,-jupytext.text_representation.format_version",
   "text_representation": {
    "extension": ".md",
    "format_name": "myst"
   }
  },
  "kernelspec": {
   "display_name": "Python 3",
   "language": "python",
   "name": "python3"
  },
  "notebookname": "exercice: fichiers",
  "version": "3.0"
 },
 "nbformat": 4,
 "nbformat_minor": 4
}
