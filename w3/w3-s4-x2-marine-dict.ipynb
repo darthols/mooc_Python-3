{
 "cells": [
  {
   "cell_type": "markdown",
   "metadata": {},
   "source": [
    "<div class=\"licence\">\n",
    "<span>Licence CC BY-NC-ND</span>\n",
    "<span>Thierry Parmentelat &amp; Arnaud Legout</span>\n",
    "<span><img src=\"media/both-logos-small-alpha.png\" /></span>\n",
    "</div>"
   ]
  },
  {
   "cell_type": "markdown",
   "metadata": {},
   "source": [
    "# Fusionner des données"
   ]
  },
  {
   "cell_type": "markdown",
   "metadata": {},
   "source": [
    "## Exercices"
   ]
  },
  {
   "cell_type": "markdown",
   "metadata": {},
   "source": [
    "Cet exercice vient en deux versions, une de niveau basique et une de niveau intermédiaire.\n",
    "\n",
    "La version basique est une application de la technique d'indexation que l'on a vue dans le complément \"Gérer des enregistrements\". On peut très bien faire les deux versions dans l'ordre, une fois qu'on a fait la version basique on est en principe un peu plus avancé pour aborder la version intermédiaire."
   ]
  },
  {
   "cell_type": "markdown",
   "metadata": {},
   "source": [
    "### Contexte"
   ]
  },
  {
   "cell_type": "markdown",
   "metadata": {},
   "source": [
    "Nous allons commencer à utiliser des données un peu plus réalistes. Il s'agit de données obtenues auprès de [MarineTraffic](https://www.marinetraffic.com) - et légèrement simplifiées pour les besoins de l'exercice. Ce site expose les coordonnées géographiques de bateaux observées en mer au travers d'un réseau de collecte de type *crowdsourcing*."
   ]
  },
  {
   "cell_type": "markdown",
   "metadata": {},
   "source": [
    "De manière à optimiser le volume de données à transférer, l'API de MarineTraffic offre deux modes pour obtenir les données :\n",
    "\n",
    "* **mode étendu** : chaque mesure (bateau x position x temps) est accompagnée de tous les détails du bateau (`id`, nom, pays de rattachement, etc.) ;\n",
    "* **mode abrégé** : chaque mesure est uniquement attachée à l'`id` du bateau.\n",
    "\n",
    "En effet, chaque bateau possède un identifiant unique qui est un entier, que l'on note  `id`."
   ]
  },
  {
   "cell_type": "markdown",
   "metadata": {},
   "source": [
    "### Chargement des données"
   ]
  },
  {
   "cell_type": "markdown",
   "metadata": {},
   "source": [
    "Commençons par charger les données de l'exercice :"
   ]
  },
  {
   "cell_type": "code",
   "execution_count": null,
   "metadata": {},
   "outputs": [],
   "source": [
    "from corrections.exo_marine_dict import extended, abbreviated"
   ]
  },
  {
   "cell_type": "markdown",
   "metadata": {},
   "source": [
    "### Format des données"
   ]
  },
  {
   "cell_type": "markdown",
   "metadata": {},
   "source": [
    "Le format de ces données est relativement simple, il s'agit dans les deux cas d'une liste d'entrées - une par bateau.\n",
    "\n",
    "Chaque entrée à son tour est une liste qui contient :\n",
    "\n",
    "    mode étendu: [id, latitude, longitude, date_heure, nom_bateau, code_pays, ...]\n",
    "    mode abrégé: [id, latitude, longitude, date_heure]\n",
    "\n",
    "sachant que les entrées après le code pays dans le format étendu ne nous intéressent pas pour cet exercice."
   ]
  },
  {
   "cell_type": "code",
   "execution_count": null,
   "metadata": {},
   "outputs": [],
   "source": [
    "# une entrée étendue est une liste qui ressemble à ceci\n",
    "sample_extended_entry = extended[3]\n",
    "print(sample_extended_entry)"
   ]
  },
  {
   "cell_type": "code",
   "execution_count": null,
   "metadata": {},
   "outputs": [],
   "source": [
    "# une entrée abrégée ressemble à ceci\n",
    "sample_abbreviated_entry = abbreviated[0]\n",
    "print(sample_abbreviated_entry)"
   ]
  },
  {
   "cell_type": "markdown",
   "metadata": {},
   "source": [
    "On précise également que les deux listes `extended` et `abbreviated` :\n",
    "\n",
    "* possèdent exactement **le même nombre** d'entrées ;\n",
    "* et correspondent **aux mêmes bateaux** ;\n",
    "* mais naturellement **à des moments différents** ;\n",
    "* et **pas forcément dans le même ordre**."
   ]
  },
  {
   "cell_type": "markdown",
   "metadata": {},
   "source": [
    "*******"
   ]
  },
  {
   "cell_type": "markdown",
   "metadata": {},
   "source": [
    "### Exercice - niveau basique"
   ]
  },
  {
   "cell_type": "code",
   "execution_count": null,
   "metadata": {},
   "outputs": [],
   "source": [
    "# chargement de l'exercice\n",
    "from corrections.exo_marine_dict import exo_index"
   ]
  },
  {
   "cell_type": "markdown",
   "metadata": {},
   "source": [
    "##### But de l'exercice"
   ]
  },
  {
   "cell_type": "markdown",
   "metadata": {},
   "source": [
    "On vous demande d'écrire une fonction `index` qui calcule, à partir de la liste des données étendues, un dictionnaire qui est :\n",
    "\n",
    "* indexé par l'`id` de chaque bateau ;\n",
    "* et qui a pour valeur la liste qui décrit le bateau correspondant."
   ]
  },
  {
   "cell_type": "markdown",
   "metadata": {},
   "source": [
    "De manière plus imagée, si :\n",
    "\n",
    "```python\n",
    "extended = [ bateau1, bateau2, ... ]\n",
    "```\n",
    "\n",
    "Et si :\n",
    "\n",
    "```python\n",
    "bateau1 = [ id1, latitude, ... ]\n",
    "```\n",
    "\n",
    "On doit obtenir comme résultat de `index` un dictionnaire :\n",
    "\n",
    "```python\n",
    "{\n",
    "    id1 -> [ id_bateau1, latitude, ... ],\n",
    "    id2 ...\n",
    "}\n",
    "```\n",
    "\n",
    "Bref, on veut pouvoir retrouver les différents éléments de la liste `extended` par accès direct, en ne faisant qu'une seule recherche dans l'index."
   ]
  },
  {
   "cell_type": "code",
   "execution_count": null,
   "metadata": {},
   "outputs": [],
   "source": [
    "# le résultat attendu\n",
    "result_index = exo_index.resultat(extended)\n",
    "\n",
    "# on en profite pour illustrer le module pprint\n",
    "from pprint import pprint\n",
    "\n",
    "# à quoi ressemble le résultat pour un bateau au hasard\n",
    "for key, value in result_index.items():\n",
    "    print(\"==== clé\")\n",
    "    pprint(key)\n",
    "    print(\"==== valeur\")\n",
    "    pprint(value)\n",
    "    break"
   ]
  },
  {
   "cell_type": "markdown",
   "metadata": {},
   "source": [
    "Remarquez ci-dessus l'utilisation d'un utilitaire parfois pratique : le [module `pprint` pour pretty-printer](https://docs.python.org/3/library/pprint.html)."
   ]
  },
  {
   "cell_type": "markdown",
   "metadata": {},
   "source": [
    "##### Votre code"
   ]
  },
  {
   "cell_type": "code",
   "execution_count": null,
   "metadata": {},
   "outputs": [],
   "source": [
    "def index(extended):\n",
    "    \"<votre_code>\""
   ]
  },
  {
   "cell_type": "markdown",
   "metadata": {},
   "source": [
    "##### Validation"
   ]
  },
  {
   "cell_type": "code",
   "execution_count": null,
   "metadata": {},
   "outputs": [],
   "source": [
    "exo_index.correction(index, abbreviated)"
   ]
  },
  {
   "cell_type": "markdown",
   "metadata": {},
   "source": [
    "Vous remarquerez d'ailleurs que la seule chose que l'on utilise dans cet exercice, c'est que l'id des bateaux arrive en première position (dans la liste qui matérialise le bateau), aussi votre code doit marcher à l'identique avec les bateaux étendus :"
   ]
  },
  {
   "cell_type": "code",
   "execution_count": null,
   "metadata": {},
   "outputs": [],
   "source": [
    "exo_index.correction(index, extended)"
   ]
  },
  {
   "cell_type": "markdown",
   "metadata": {},
   "source": [
    "### Exercice - niveau intermédiaire"
   ]
  },
  {
   "cell_type": "code",
   "execution_count": null,
   "metadata": {},
   "outputs": [],
   "source": [
    "# chargement de l'exercice\n",
    "from corrections.exo_marine_dict import exo_merge"
   ]
  },
  {
   "cell_type": "markdown",
   "metadata": {},
   "source": [
    "##### But de l'exercice"
   ]
  },
  {
   "cell_type": "markdown",
   "metadata": {},
   "source": [
    "On vous demande d'écrire une fonction `merge` qui fasse une consolidation des données, de façon à obtenir en sortie un dictionnaire :\n",
    "\n",
    "```python\n",
    "id -> [nom_bateau, code_pays, position_etendu, position_abrege]\n",
    "```\n",
    "\n",
    "dans lequel les deux objets `position` sont tous les deux des tuples de la forme :\n",
    "\n",
    "```python\n",
    "(latitude, longitude, date_heure)\n",
    "```"
   ]
  },
  {
   "cell_type": "markdown",
   "metadata": {},
   "source": [
    "Voici par exemple un couple clé-valeur dans le résultat attendu :"
   ]
  },
  {
   "cell_type": "code",
   "execution_count": null,
   "metadata": {},
   "outputs": [],
   "source": [
    "# le résultat attendu\n",
    "result_merge = exo_merge.resultat(extended, abbreviated)\n",
    "\n",
    "# à quoi ressemble le résultat pour un bateau au hasard\n",
    "from pprint import pprint\n",
    "for key_value in result_merge.items():\n",
    "    pprint(key_value)\n",
    "    break"
   ]
  },
  {
   "cell_type": "markdown",
   "metadata": {},
   "source": [
    "##### Votre code"
   ]
  },
  {
   "cell_type": "code",
   "execution_count": null,
   "metadata": {},
   "outputs": [],
   "source": [
    "def merge(extended, abbreviated):\n",
    "    \"votre code\""
   ]
  },
  {
   "cell_type": "markdown",
   "metadata": {},
   "source": [
    "##### Validation"
   ]
  },
  {
   "cell_type": "code",
   "execution_count": null,
   "metadata": {},
   "outputs": [],
   "source": [
    "exo_merge.correction(merge, extended, abbreviated)"
   ]
  },
  {
   "cell_type": "markdown",
   "metadata": {},
   "source": [
    "### Les fichiers de données complets"
   ]
  },
  {
   "cell_type": "markdown",
   "metadata": {},
   "source": [
    "Signalons enfin pour ceux qui sont intéressés que les données chargées dans cet exercice sont disponibles au format JSON - qui est précisément celui exposé par marinetraffic.\n",
    "\n",
    "Nous avons beaucoup simplifié les données d'entrée pour vous permettre une mise au point plus facile. Si vous voulez vous amuser à charger des données un peu plus significatives, sachez que :\n",
    "\n",
    "* vous avez accès aux fichiers de données plus complets :\n",
    "  * [data/marine-e1-ext.json](data/marine-e1-ext.json)\n",
    "  * [data/marine-e1-abb.json](data/marine-e1-abb.json)\n",
    "* pour charger ces fichiers, qui sont donc au [format JSON](http://en.wikipedia.org/wiki/JSON), la connaissance intime de ce format n'est pas nécessaire, on peut tout simplement utiliser le [module `json`](https://docs.python.org/3/library/json.html). Voici le code utilisé dans l'exercice pour charger ces JSON en mémoire ; il utilise des notions que nous verrons dans les semaines à venir :"
   ]
  },
  {
   "cell_type": "code",
   "execution_count": null,
   "metadata": {},
   "outputs": [],
   "source": [
    "# load data from files\n",
    "import json\n",
    "\n",
    "with open(\"data/marine-e1-ext.json\", encoding=\"utf-8\") as feed:\n",
    "    extended_full = json.load(feed)\n",
    "\n",
    "with open(\"data/marine-e1-abb.json\", encoding=\"utf-8\") as feed:\n",
    "    abbreviated_full = json.load(feed)"
   ]
  },
  {
   "cell_type": "markdown",
   "metadata": {},
   "source": [
    "Une fois que vous avez un code qui fonctionne vous pouvez le lancer sur ces données plus copieuses en faisant :"
   ]
  },
  {
   "cell_type": "code",
   "execution_count": null,
   "metadata": {},
   "outputs": [],
   "source": [
    "exo_merge.correction(merge, extended_full, abbreviated_full)"
   ]
  }
 ],
 "metadata": {
  "jupytext": {
   "cell_metadata_filter": "all",
   "notebook_metadata_filter": "all,-language_info,-toc,-jupytext.text_representation.jupytext_version,-jupytext.text_representation.format_version",
   "text_representation": {
    "extension": ".md",
    "format_name": "myst"
   }
  },
  "kernelspec": {
   "display_name": "Python 3",
   "language": "python",
   "name": "python3"
  },
  "notebookname": "Fusionner des données",
  "version": "3.0"
 },
 "nbformat": 4,
 "nbformat_minor": 4
}
