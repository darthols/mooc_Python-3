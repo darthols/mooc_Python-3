{
 "cells": [
  {
   "cell_type": "markdown",
   "metadata": {},
   "source": [
    "<div class=\"licence\">\n",
    "<span>Licence CC BY-NC-ND</span>\n",
    "<span>Thierry Parmentelat &amp; Arnaud Legout</span>\n",
    "<span><img src=\"media/both-logos-small-alpha.png\" /></span>\n",
    "</div>"
   ]
  },
  {
   "cell_type": "markdown",
   "metadata": {},
   "source": [
    "# Classe"
   ]
  },
  {
   "cell_type": "markdown",
   "metadata": {},
   "source": [
    "## Exercice - niveau basique"
   ]
  },
  {
   "cell_type": "code",
   "execution_count": null,
   "metadata": {},
   "outputs": [],
   "source": [
    "# charger l'exercice\n",
    "from corrections.cls_fifo import exo_fifo"
   ]
  },
  {
   "cell_type": "markdown",
   "metadata": {},
   "source": [
    "On veut implémenter une classe pour manipuler une queue d'événements. La logique de cette classe est que :\n",
    "\n",
    "* on la crée sans argument ;\n",
    "* on peut toujours ajouter un élément avec la méthode `incoming` ;\n",
    "* et tant que la queue contient des éléments on peut appeler la méthode `outgoing`, qui retourne et enlève un élément dans la queue.\n",
    "\n",
    "Cette classe s'appelle `Fifo` pour *First In, First Out*, c'est-à-dire que les éléments retournés par `outgoing` le sont dans le même ordre où ils ont été ajoutés.\n",
    "\n",
    "La méthode `outgoing` retourne `None` lorsqu'on l'appelle sur une pile vide."
   ]
  },
  {
   "cell_type": "code",
   "execution_count": null,
   "metadata": {},
   "outputs": [],
   "source": [
    "# voici un exemple de scénario\n",
    "exo_fifo.example()"
   ]
  },
  {
   "cell_type": "code",
   "execution_count": null,
   "metadata": {},
   "outputs": [],
   "source": [
    "# vous pouvez définir votre classe ici\n",
    "class Fifo:\n",
    "    def __init__(self):\n",
    "        \"votre code\"\n",
    "    def incoming(self, value):\n",
    "        \"votre code\"\n",
    "    def outgoing(self):\n",
    "        \"votre code\""
   ]
  },
  {
   "cell_type": "code",
   "execution_count": null,
   "metadata": {},
   "outputs": [],
   "source": [
    "# et la vérifier ici\n",
    "exo_fifo.correction(Fifo)"
   ]
  }
 ],
 "metadata": {
  "jupytext": {
   "cell_metadata_filter": "all",
   "notebook_metadata_filter": "all,-language_info,-toc,-jupytext.text_representation.jupytext_version,-jupytext.text_representation.format_version",
   "text_representation": {
    "extension": ".md",
    "format_name": "myst"
   }
  },
  "kernelspec": {
   "display_name": "Python 3",
   "language": "python",
   "name": "python3"
  },
  "notebookname": "Classe",
  "version": "3.0"
 },
 "nbformat": 4,
 "nbformat_minor": 4
}
