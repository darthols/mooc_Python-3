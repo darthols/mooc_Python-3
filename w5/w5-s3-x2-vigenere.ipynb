{
 "cells": [
  {
   "cell_type": "markdown",
   "metadata": {},
   "source": [
    "<div class=\"licence\">\n",
    "<span>Licence CC BY-NC-ND</span>\n",
    "<span>Thierry Parmentelat &amp; Arnaud Legout</span>\n",
    "<span><img src=\"media/both-logos-small-alpha.png\" /></span>\n",
    "</div>"
   ]
  },
  {
   "cell_type": "markdown",
   "metadata": {},
   "source": [
    "# Le code de Vigenère"
   ]
  },
  {
   "cell_type": "markdown",
   "metadata": {},
   "source": [
    "## Exercice, niveau intermédiaire"
   ]
  },
  {
   "cell_type": "markdown",
   "metadata": {},
   "source": [
    "Le [code ou chiffre de Vigénère](https://fr.wikipedia.org/wiki/Chiffre_de_Vigen%C3%A8re) est une méthode de chiffrement très rustique, qui est une version un peu améliorée du [chiffre de César](https://fr.wikipedia.org/wiki/Chiffrement_par_d%C3%A9calage).\n",
    "\n",
    "Les deux méthodes fonctionnent par simple décalage dans l'alphabet modulo 26.\n",
    "\n",
    "*Je précise tout de suite que les conventions que nous avons adoptées dans cet exercice sont légèrement différentes de celles décrites dans les deux pages wikipédia citées ci-dessus.*"
   ]
  },
  {
   "cell_type": "markdown",
   "metadata": {},
   "source": [
    "Dans le chiffre de **César**, on se donne une **clé** constituée d'**un seul caractère**, disons par exemple `C` (la 3-ième lettre de l'alphabet), et avec cette clé on chiffre l'alphabet par un décalage de 3, ce qui donne :\n",
    "\n",
    "```\n",
    "clé     : C    \n",
    "clair   : ABCDEFGHIJKLMNOPQRSTUVWXYZ\n",
    "chiffré : DEFGHIJKLMNOPQRSTUVWXYZABC\n",
    "```\n",
    "\n",
    "ou avec d'autres clés\n",
    "\n",
    "```\n",
    "clé     : L\n",
    "clair   : ABCDEFGHIJKLMNOPQRSTUVWXYZ\n",
    "chiffré : MNOPQRSTUVWXYZABCDEFGHIJKL\n",
    "```\n",
    "\n",
    "```\n",
    "clé     : E    \n",
    "clair   : ABCDEFGHIJKLMNOPQRSTUVWXYZ\n",
    "chiffré : FGHIJKLMNOPQRSTUVWXYZABCDE\n",
    "```"
   ]
  },
  {
   "cell_type": "markdown",
   "metadata": {},
   "source": [
    "La méthode de **Vigenère** consiste à choisir cette fois pour **clé** un **mot**, qui est utilisé de manière répétitive. \n",
    "\n",
    "Ainsi par exemple si je choisis la clé `CLE`, on va chiffrer un message en appliquant la méthode de César\n",
    "\n",
    "* avec la clé 'C' sur le 1-er caractère, \n",
    "* avec la clé 'L' sur le 2-ème caractère, \n",
    "* avec la clé 'E' sur le 3-ème caractère, \n",
    "* avec la clé 'C' sur le 4-ème caractère, \n",
    "* avec la clé 'L' sur le 5-ème caractère, \n",
    "* ..."
   ]
  },
  {
   "cell_type": "markdown",
   "metadata": {},
   "source": [
    "Le but de cet exercice est d'écrire une fonction qui implémente la méthode de Vigenère pour, à partir d'une clé **connue**, coder ou décoder des messages."
   ]
  },
  {
   "cell_type": "markdown",
   "metadata": {},
   "source": [
    "## Première partie : le code de César"
   ]
  },
  {
   "cell_type": "markdown",
   "metadata": {},
   "source": [
    "Dans un premier temps on se propose d'implémenter le code de César ; pour rester simple, nous allons nous limiter à ne chiffrer que **les caractères alphabétiques** dans la plage des caractères ASCII, c'est-à-dire sans accent, cédille ou autre.\n",
    "\n",
    "Je rappelle par ailleurs l'existence en Python de deux fonctions qui peuvent être très utiles dans ce contexte :\n",
    "\n",
    "* `ord()` qui projette les caractères vers les entiers (codepoints)\n",
    "* et `chr()` qui réalise l'opération inverse."
   ]
  },
  {
   "cell_type": "code",
   "execution_count": null,
   "metadata": {
    "cell_style": "split"
   },
   "outputs": [],
   "source": [
    "# la fonction ord() retourne le codepoint\n",
    "# d'un caractère\n",
    "ord('a')"
   ]
  },
  {
   "cell_type": "code",
   "execution_count": null,
   "metadata": {
    "cell_style": "split"
   },
   "outputs": [],
   "source": [
    "# et réciproquement avec chr()\n",
    "chr(97)"
   ]
  },
  {
   "cell_type": "markdown",
   "metadata": {},
   "source": [
    "Une fois qu'on a dit ça, il est intéressant de constater que les caractères minuscules et majuscules auxquels nous nous intéressons sont, fort heureusement, contigus dans l'espace des codepoints."
   ]
  },
  {
   "cell_type": "code",
   "execution_count": null,
   "metadata": {
    "cell_style": "split"
   },
   "outputs": [],
   "source": [
    "import string\n",
    "string.ascii_letters"
   ]
  },
  {
   "cell_type": "code",
   "execution_count": null,
   "metadata": {
    "cell_style": "split"
   },
   "outputs": [],
   "source": [
    "string.ascii_lowercase"
   ]
  },
  {
   "cell_type": "code",
   "execution_count": null,
   "metadata": {},
   "outputs": [],
   "source": [
    "COLUMNS = 7"
   ]
  },
  {
   "cell_type": "code",
   "execution_count": null,
   "metadata": {
    "cell_style": "split"
   },
   "outputs": [],
   "source": [
    "for index, char in enumerate(string.ascii_uppercase, 1):\n",
    "    print(f\"{char}→{ord(char):3d} \", end=\"\")\n",
    "    if index % COLUMNS == 0:\n",
    "        print()    "
   ]
  },
  {
   "cell_type": "code",
   "execution_count": null,
   "metadata": {
    "cell_style": "split"
   },
   "outputs": [],
   "source": [
    "for index, char in enumerate(string.ascii_lowercase, 1):\n",
    "    print(f\"{char}→{ord(char):3d} \", end=\"\")\n",
    "    if index % COLUMNS == 0:\n",
    "        print()    "
   ]
  },
  {
   "cell_type": "markdown",
   "metadata": {},
   "source": [
    "Forts de ces observations, vous devez pouvoir à présent écrire une première fonction qui implémente le décalage de César. \n",
    "\n",
    "Comme par ailleurs les opérations d'encodage et de décodage sont symétriques l'une de l'autre, on choisit pour éviter d'avoir à dupliquer du code, d'écrire une fonction dont la signature est :\n",
    "\n",
    "```python\n",
    "def cesar(clear, key, encode=True):\n",
    "    # retourne un caractère\n",
    "```"
   ]
  },
  {
   "cell_type": "markdown",
   "metadata": {},
   "source": [
    "La fonction en question doit :\n",
    "\n",
    "* laisser le texte tel quel si ce n'est pas un caractère alphabétique ASCII,\n",
    "* accepter une clé qui peut être minuscule ou majuscule ; dit autrement, deux clés qui valent 'C' et 'c' produisent toutes les deux le même résultat,\n",
    "* retourner une majuscule si le texte clair est en majuscule et une minuscule si le texte en clair est une minuscule."
   ]
  },
  {
   "cell_type": "markdown",
   "metadata": {},
   "source": [
    "Voici ce que cela donnerait sur quelques exemples :"
   ]
  },
  {
   "cell_type": "code",
   "execution_count": null,
   "metadata": {},
   "outputs": [],
   "source": [
    "from corrections.exo_vigenere import exo_cesar"
   ]
  },
  {
   "cell_type": "code",
   "execution_count": null,
   "metadata": {},
   "outputs": [],
   "source": [
    "exo_cesar.example()"
   ]
  },
  {
   "cell_type": "code",
   "execution_count": null,
   "metadata": {},
   "outputs": [],
   "source": [
    "# à vous de jouer pour implémenter la fonction cesar\n",
    "def cesar(clear, key, encode=True):\n",
    "    pass"
   ]
  },
  {
   "cell_type": "code",
   "execution_count": null,
   "metadata": {},
   "outputs": [],
   "source": [
    "# et pour vous corriger\n",
    "exo_cesar.correction(cesar)"
   ]
  },
  {
   "cell_type": "markdown",
   "metadata": {},
   "source": [
    "## Deuxième partie : le code de Vigenère"
   ]
  },
  {
   "cell_type": "markdown",
   "metadata": {},
   "source": [
    "Cette première partie étant acquise, nous pouvons passer à l'amélioration de Vigenère, qui comme on l'a vu dans l'introduction consiste à prendre un mot dont on utilise les lettres successivement, et en boucle, comme clé pour la méthode de César.\n",
    "\n",
    "Donc pour calculer le chiffrement de `ce message` avec la clé `cle`, on va se souvenir que"
   ]
  },
  {
   "cell_type": "markdown",
   "metadata": {
    "cell_style": "split"
   },
   "source": [
    "```\n",
    "clé     : C    \n",
    "clair   : ABCDEFGHIJKLMNOPQRSTUVWXYZ\n",
    "chiffré : DEFGHIJKLMNOPQRSTUVWXYZABC\n",
    "```\n",
    "\n",
    "```\n",
    "clé     : L\n",
    "clair   : ABCDEFGHIJKLMNOPQRSTUVWXYZ\n",
    "chiffré : MNOPQRSTUVWXYZABCDEFGHIJKL\n",
    "```\n",
    "\n",
    "```\n",
    "clé     : E    \n",
    "clair   : ABCDEFGHIJKLMNOPQRSTUVWXYZ\n",
    "chiffré : FGHIJKLMNOPQRSTUVWXYZABCDE\n",
    "```"
   ]
  },
  {
   "cell_type": "markdown",
   "metadata": {
    "cell_style": "split"
   },
   "source": [
    "et du coup faire\n",
    "\n",
    "```\n",
    "cesar('c', 'c') → 'f'\n",
    "cesar('e', 'l') → 'q'\n",
    "cesar(' ', 'e') → ' '\n",
    "cesar('m', 'c') → 'p'\n",
    "cesar('e', 'l') → 'q'\n",
    "cesar('s', 'e') → 'x'\n",
    "cesar('s', 'c') → 'v'\n",
    "cesar('a', 'l') → 'm'\n",
    "cesar('g', 'e') → 'l'\n",
    "cesar('e', 'c') → 'h'\n",
    "```"
   ]
  },
  {
   "cell_type": "markdown",
   "metadata": {},
   "source": [
    "Voyons cet exemple sous forme de code :"
   ]
  },
  {
   "cell_type": "code",
   "execution_count": null,
   "metadata": {},
   "outputs": [],
   "source": [
    "from corrections.exo_vigenere import exo_vigenere"
   ]
  },
  {
   "cell_type": "code",
   "execution_count": null,
   "metadata": {},
   "outputs": [],
   "source": [
    "exo_vigenere.example()"
   ]
  },
  {
   "cell_type": "markdown",
   "metadata": {},
   "source": [
    "### indices"
   ]
  },
  {
   "cell_type": "markdown",
   "metadata": {},
   "source": [
    "* Bien entendu vous êtes invités à utiliser la fonction `cesar` pour implémenter `vigenere`.\n",
    "\n",
    "* Par ailleurs, pour cet exercice je vous recommande d'aller voir ou revoir le module `itertools` qui contient des outils qui sont exactement adaptés à ce traitement.  \n",
    "  C'est-à-dire, pour être encore plus explicite, qu'il est possible d'écrire cette fonction sans recourir à aucun indice entier sur le texte ni sur la clé."
   ]
  },
  {
   "cell_type": "code",
   "execution_count": null,
   "metadata": {},
   "outputs": [],
   "source": [
    "# à vous de jouer\n",
    "def vigenere(clear, key, encode=True):\n",
    "    pass"
   ]
  },
  {
   "cell_type": "code",
   "execution_count": null,
   "metadata": {},
   "outputs": [],
   "source": [
    "# et pour corriger\n",
    "exo_vigenere.correction(vigenere)"
   ]
  }
 ],
 "metadata": {
  "ipub": {
   "sphinx": {
    "toggle_input": true,
    "toggle_input_all": true,
    "toggle_output": true,
    "toggle_output_all": true
   }
  },
  "jupytext": {
   "cell_metadata_filter": "all",
   "formats": "md:myst",
   "notebook_metadata_filter": "all,-language_info,-toc,-jupytext.text_representation.jupytext_version,-jupytext.text_representation.format_version",
   "text_representation": {
    "extension": ".md",
    "format_name": "myst"
   }
  },
  "kernelspec": {
   "display_name": "Python 3",
   "language": "python",
   "name": "python3"
  },
  "notebookname": "Le code de Vigenère",
  "version": "3.0"
 },
 "nbformat": 4,
 "nbformat_minor": 4
}
