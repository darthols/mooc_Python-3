{
 "cells": [
  {
   "cell_type": "markdown",
   "metadata": {},
   "source": [
    "<div class=\"licence\">\n",
    "<span>Licence CC BY-NC-ND</span>\n",
    "<span>Thierry Parmentelat &amp; Arnaud Legout</span>\n",
    "<span><img src=\"media/both-logos-small-alpha.png\" /></span>\n",
    "</div>"
   ]
  },
  {
   "cell_type": "markdown",
   "metadata": {},
   "source": [
    "Merci à Adrien Ollier d'avoir proposé cet exercice"
   ]
  },
  {
   "cell_type": "markdown",
   "metadata": {},
   "source": [
    "## exercice - niveau basique"
   ]
  },
  {
   "cell_type": "code",
   "execution_count": null,
   "metadata": {},
   "outputs": [],
   "source": [
    "from corrections.exo_spreadsheet import exo_spreadsheet"
   ]
  },
  {
   "cell_type": "markdown",
   "metadata": {},
   "source": [
    "Le but de l'exercice est d'écrire la fonction `spreadsheet` \n",
    "\n",
    "* qui prend en entrée un entier - disons `index`\n",
    "* et qui en sortie retourne le nom de la colonne correspondante dans un fichier Excel.\n",
    "\n",
    "Pour rappel dans un tableur les colonnes sont appelées d'abord `A` jusque `Z`, puis on passe à `AA`, `AB`, et ainsi de suite jusque `ZZ`, puis `AAA`, etc etc..\n",
    "\n",
    "La valeur d'entrée index = 0 est considérée comme non valide."
   ]
  },
  {
   "cell_type": "code",
   "execution_count": null,
   "metadata": {},
   "outputs": [],
   "source": [
    "# voici quelques exemples charnière\n",
    "exo_spreadsheet.example()"
   ]
  },
  {
   "cell_type": "markdown",
   "metadata": {},
   "source": [
    "Comme vous le voyez, il s'agit en quelque sorte de traduire cet entier en base 26 - si on considère les 26 lettres comme les chiffres (*digits*) de la numération dans cette base."
   ]
  },
  {
   "cell_type": "markdown",
   "metadata": {},
   "source": [
    "Pour vous aider, on rappelle l'existence des fonctions prédéfinies `chr()` et `ord()` qui permettent de passer des caractères Unicode à leur représentation numérique (*codepoint*) et vice-versa."
   ]
  },
  {
   "cell_type": "markdown",
   "metadata": {},
   "source": [
    "On vous invite également à envisager la progression suivante :\n",
    "\n",
    "1. Exercice intermédiaire:\n",
    "   Écrire la fonction qui prend les entiers de 0 à 25 et qui retourne les lettres de A à Z.\n",
    "\n",
    "1. Écrire la fonction qui prend les entiers de 1 à 26 et qui retourne les lettres de A à Z.\n",
    "   La valeur d'entrée index = 0 est considérée comme une erreur.\n",
    "\n",
    "1. À partir de la fonction précédente, écrire la fonction spreadsheet() pour les indices commençant à 1 et allant au-delà de 26."
   ]
  },
  {
   "cell_type": "code",
   "execution_count": null,
   "metadata": {},
   "outputs": [],
   "source": [
    "# écrivez votre code ici'\n",
    "def spreadsheet(index):\n",
    "    ..."
   ]
  },
  {
   "cell_type": "code",
   "execution_count": null,
   "metadata": {},
   "outputs": [],
   "source": [
    "# et validez-le ici\n",
    "exo_spreadsheet.correction(spreadsheet)"
   ]
  }
 ],
 "metadata": {
  "jupytext": {
   "cell_metadata_filter": "all",
   "notebook_metadata_filter": "all,-language_info,-toc,-jupytext.text_representation.jupytext_version,-jupytext.text_representation.format_version",
   "text_representation": {
    "extension": ".md",
    "format_name": "myst"
   }
  },
  "kernelspec": {
   "display_name": "Python 3",
   "language": "python",
   "name": "python3"
  },
  "notebookname": "Spreadsheet",
  "version": "3.0"
 },
 "nbformat": 4,
 "nbformat_minor": 4
}
